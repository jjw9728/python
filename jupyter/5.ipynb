{
 "cells": [
  {
   "cell_type": "code",
   "execution_count": 1,
   "metadata": {},
   "outputs": [
    {
     "name": "stdout",
     "output_type": "stream",
     "text": [
      "Requirement already satisfied: bs4 in c:\\users\\msi\\anaconda3\\lib\\site-packages (0.0.2)\n",
      "Requirement already satisfied: beautifulsoup4 in c:\\users\\msi\\anaconda3\\lib\\site-packages (from bs4) (4.12.3)\n",
      "Requirement already satisfied: soupsieve>1.2 in c:\\users\\msi\\anaconda3\\lib\\site-packages (from beautifulsoup4->bs4) (2.5)\n",
      "Note: you may need to restart the kernel to use updated packages.\n"
     ]
    }
   ],
   "source": [
    "%pip install bs4"
   ]
  },
  {
   "cell_type": "code",
   "execution_count": 2,
   "metadata": {},
   "outputs": [],
   "source": [
    "from bs4 import BeautifulSoup as bs\n",
    "import requests"
   ]
  },
  {
   "cell_type": "code",
   "execution_count": 3,
   "metadata": {},
   "outputs": [
    {
     "name": "stdout",
     "output_type": "stream",
     "text": [
      "<!DOCTYPE HTML>\n",
      "<html lang=\"ko\">\n",
      "<head>\n",
      "    <meta http-equiv=\"Content-Type\" content=\"text/html; charset=utf-8\"/>\n",
      "    <meta name=\"viewport\" content=\"width=device-width,initial-scale=1.0,maximum-scale=1.0,minimum-scale=1.0,user-scalable=no\">\n",
      "    <meta name=\"description\" lang=\"ko\" content=\"ì ì í ë¤ì íì¸í´ì£¼ì¸ì! : ë¤ì´ë² ì¼í\">\n",
      "    <title>ìë¬ íì´ì§ : ë¤ì´ë² ì¼í</title>\n",
      "    <link rel=\"stylesheet\" type=\"text/css\" href=\"https://shopv.pstatic.net/web/maintenance/limit/naver_error.css\">\n",
      "    <script src=\"https://shopv.pstatic.net/web/maintenance/limit/grafolio.js\"></script>\n",
      "</head>\n",
      "<body>\n",
      "<div id=\"u_skip\" class=\"u_skip\">\n",
      "    <a href=\"#content\">ë³¸ë¬¸ ë°ë¡ê°ê¸°</a>\n",
      "</div>\n",
      "<div class=\"wrap\">\n",
      "    <div class=\"header\" role=\"banner\">\n",
      "        <h1 class=\"logo\">\n",
      "            <a href=\"https://naver.com\" class=\"logo_link\">\n",
      "                <img src=\"https://shopv.pstatic.net/web/maintenance/limit/naver_logo.png\" width=\"90\" height=\"16\" alt=\"ë¤ì´ë²\">\n",
      "            </a>\n",
      "        </h1>\n",
      "        <div class=\"nav\" role=\"navigation\">\n",
      "            <a href=\"https://naver.com\" class=\"nav_link\">ë¤ì´ë²í</a>\n",
      "            <a href=\"https://help.pay.naver.com\" class=\"nav_link\">ì¼í&íì´ ê³ ê°ì¼í°</a>\n",
      "        </div>\n",
      "    </div>\n",
      "    <hr>\n",
      "    <div class=\"container\" role=\"main\">\n",
      "        <div class=\"content\" id=\"content\">\n",
      "            <div class=\"image_area _errorImage\"></div>\n",
      "\n",
      "            <div class=\"info_area\">\n",
      "                <div class=\"info_txt\">\n",
      "                    <strong class=\"tit\">ì ì í ë¤ì íì¸í´ì£¼ì¸ì!</strong>\n",
      "                    <p class=\"txt\">\n",
      "                        ì§ê¸ ì´ ìë¹ì¤ì ì°ê²°í  ì ììµëë¤.<br>\n",
      "                        ë¬¸ì ë¥¼ í´ê²°íê¸° ìí´ ì´ì¬í ë¸ë ¥íê³  ììµëë¤.<br>\n",
      "                        ì ì í ë¤ì íì¸í´ì£¼ì¸ì.\n",
      "                    </p>\n",
      "                </div>\n",
      "                <div class=\"info_link\">\n",
      "                    <a href=\"javascript:history.go(-1)\" class=\"link_prev\">ì´ì  íì´ì§</a><a href=\"https://shopping.naver.com\" class=\"link_home\">ë¤ì´ë² ì¼í í</a>\n",
      "                </div>\n",
      "            </div>\n",
      "        </div>\n",
      "    </div>\n",
      "    <hr>\n",
      "    <div class=\"footer\" role=\"contentinfo\">\n",
      "        <address>\n",
      "            <span>Copyright</span> Â©<a href=\"http://www.navercorp.com\" class=\"link_naver\" target=\"_blank\">NAVER Corp.</a> <span>All Rights Reserved.</span>\n",
      "        </address>\n",
      "    </div>\n",
      "</div>\n",
      "</body>\n",
      "</html>\n"
     ]
    }
   ],
   "source": [
    "response = requests.get(\"https://shopping.naver.com/home\")\n",
    "html = response.text\n",
    "print(html)"
   ]
  },
  {
   "cell_type": "code",
   "execution_count": 4,
   "metadata": {},
   "outputs": [
    {
     "data": {
      "text/plain": [
       "<!DOCTYPE HTML>\n",
       "\n",
       "<html lang=\"ko\">\n",
       "<head>\n",
       "<meta content=\"text/html; charset=utf-8\" http-equiv=\"Content-Type\"/>\n",
       "<meta content=\"width=device-width,initial-scale=1.0,maximum-scale=1.0,minimum-scale=1.0,user-scalable=no\" name=\"viewport\"/>\n",
       "<meta content=\"ì ì í ë¤ì íì¸í´ì£¼ì¸ì! : ë¤ì´ë² ì¼í\" lang=\"ko\" name=\"description\"/>\n",
       "<title>ìë¬ íì´ì§ : ë¤ì´ë² ì¼í</title>\n",
       "<link href=\"https://shopv.pstatic.net/web/maintenance/limit/naver_error.css\" rel=\"stylesheet\" type=\"text/css\"/>\n",
       "<script src=\"https://shopv.pstatic.net/web/maintenance/limit/grafolio.js\"></script>\n",
       "</head>\n",
       "<body>\n",
       "<div class=\"u_skip\" id=\"u_skip\">\n",
       "<a href=\"#content\">ë³¸ë¬¸ ë°ë¡ê°ê¸°</a>\n",
       "</div>\n",
       "<div class=\"wrap\">\n",
       "<div class=\"header\" role=\"banner\">\n",
       "<h1 class=\"logo\">\n",
       "<a class=\"logo_link\" href=\"https://naver.com\">\n",
       "<img alt=\"ë¤ì´ë²\" height=\"16\" src=\"https://shopv.pstatic.net/web/maintenance/limit/naver_logo.png\" width=\"90\"/>\n",
       "</a>\n",
       "</h1>\n",
       "<div class=\"nav\" role=\"navigation\">\n",
       "<a class=\"nav_link\" href=\"https://naver.com\">ë¤ì´ë²í</a>\n",
       "<a class=\"nav_link\" href=\"https://help.pay.naver.com\">ì¼í&amp;íì´ ê³ ê°ì¼í°</a>\n",
       "</div>\n",
       "</div>\n",
       "<hr/>\n",
       "<div class=\"container\" role=\"main\">\n",
       "<div class=\"content\" id=\"content\">\n",
       "<div class=\"image_area _errorImage\"></div>\n",
       "<div class=\"info_area\">\n",
       "<div class=\"info_txt\">\n",
       "<strong class=\"tit\">ì ì í ë¤ì íì¸í´ì£¼ì¸ì!</strong>\n",
       "<p class=\"txt\">\n",
       "                        ì§ê¸ ì´ ìë¹ì¤ì ì°ê²°í  ì ììµëë¤.<br/>\n",
       "                        ë¬¸ì ë¥¼ í´ê²°íê¸° ìí´ ì´ì¬í ë\n",
       "¸ë ¥íê³  ììµëë¤.<br/>\n",
       "                        ì ì í ë¤ì íì¸í´ì£¼ì¸ì.\n",
       "                    </p>\n",
       "</div>\n",
       "<div class=\"info_link\">\n",
       "<a class=\"link_prev\" href=\"javascript:history.go(-1)\">ì´ì  íì´ì§</a><a class=\"link_home\" href=\"https://shopping.naver.com\">ë¤ì´ë² ì¼í í</a>\n",
       "</div>\n",
       "</div>\n",
       "</div>\n",
       "</div>\n",
       "<hr/>\n",
       "<div class=\"footer\" role=\"contentinfo\">\n",
       "<address>\n",
       "<span>Copyright</span> Â©<a class=\"link_naver\" href=\"http://www.navercorp.com\" target=\"_blank\">NAVER Corp.</a> <span>All Rights Reserved.</span>\n",
       "</address>\n",
       "</div>\n",
       "</div>\n",
       "</body>\n",
       "</html>"
      ]
     },
     "execution_count": 4,
     "metadata": {},
     "output_type": "execute_result"
    }
   ],
   "source": [
    "soup = bs(html, \"html.parser\")\n",
    "soup"
   ]
  },
  {
   "cell_type": "code",
   "execution_count": 5,
   "metadata": {},
   "outputs": [],
   "source": [
    "html_str = '''\n",
    "<html>\n",
    "    <body>\n",
    "        <div id=\"content\">\n",
    "            <ul class = 'industry'>\n",
    "                <li>인공지능</li>\n",
    "                <li>빅데이터</li>\n",
    "                <li>스마트팩토리</li>\n",
    "            </ul>\n",
    "            <ul class = 'comlang'>\n",
    "                <li>Python</li>\n",
    "                <li>C++</li>\n",
    "                <li>Javascript</li>\n",
    "            </ul>\n",
    "        </div>\n",
    "    </body>\n",
    "</html>\n",
    "'''\n",
    "soup = bs(html_str, \"html.parser\")"
   ]
  },
  {
   "cell_type": "code",
   "execution_count": 6,
   "metadata": {},
   "outputs": [
    {
     "name": "stdout",
     "output_type": "stream",
     "text": [
      "<ul class=\"industry\">\n",
      "<li>인공지능</li>\n",
      "<li>빅데이터</li>\n",
      "<li>스마트팩토리</li>\n",
      "</ul>\n",
      "\n",
      "인공지능\n",
      "빅데이터\n",
      "스마트팩토리\n",
      "\n",
      "\n",
      "인공지능\n",
      "빅데이터\n",
      "스마트팩토리\n",
      "\n"
     ]
    }
   ],
   "source": [
    "first_ul = soup.select_one(\"ul.industry\")\n",
    "print(first_ul)\n",
    "print(first_ul.text)\n",
    "print(first_ul.get_text())"
   ]
  },
  {
   "cell_type": "code",
   "execution_count": 7,
   "metadata": {},
   "outputs": [
    {
     "name": "stdout",
     "output_type": "stream",
     "text": [
      "[<li>인공지능</li>, <li>빅데이터</li>, <li>스마트팩토리</li>]\n",
      "<li>인공지능</li>\n",
      "인공지능\n",
      "인공지능\n",
      "빅데이터\n",
      "스마트팩토리\n"
     ]
    }
   ],
   "source": [
    "all_li = first_ul.find_all(\"li\")\n",
    "print(all_li)\n",
    "print(all_li[0])\n",
    "print(all_li[0].text)\n",
    "\n",
    "for li in all_li:\n",
    "    print(li.text)"
   ]
  },
  {
   "cell_type": "code",
   "execution_count": 8,
   "metadata": {},
   "outputs": [
    {
     "name": "stdout",
     "output_type": "stream",
     "text": [
      "<ul class=\"comlang\">\n",
      "<li>Python</li>\n",
      "<li>C++</li>\n",
      "<li>Javascript</li>\n",
      "</ul>\n",
      "\n",
      "Python\n",
      "C++\n",
      "Javascript\n",
      "\n"
     ]
    }
   ],
   "source": [
    "find_ul = soup.find(class_=\"comlang\")\n",
    "print(find_ul)\n",
    "print(find_ul.text)\n"
   ]
  },
  {
   "cell_type": "code",
   "execution_count": 9,
   "metadata": {},
   "outputs": [
    {
     "name": "stdout",
     "output_type": "stream",
     "text": [
      "<ul class=\"industry\">\n",
      "<li>인공지능</li>\n",
      "<li>빅데이터</li>\n",
      "<li>스마트팩토리</li>\n",
      "</ul>\n",
      "\n",
      "인공지능\n",
      "빅데이터\n",
      "스마트팩토리\n",
      "\n"
     ]
    }
   ],
   "source": [
    "f_ul = soup.select_one('ul.industry')\n",
    "print(f_ul)\n",
    "print(f_ul.text)"
   ]
  },
  {
   "cell_type": "code",
   "execution_count": 10,
   "metadata": {},
   "outputs": [
    {
     "name": "stdout",
     "output_type": "stream",
     "text": [
      "Requirement already satisfied: openpyxl in c:\\users\\msi\\anaconda3\\lib\\site-packages (3.1.5)\n",
      "Requirement already satisfied: et-xmlfile in c:\\users\\msi\\anaconda3\\lib\\site-packages (from openpyxl) (1.1.0)\n",
      "Note: you may need to restart the kernel to use updated packages.\n"
     ]
    }
   ],
   "source": [
    "%pip install openpyxl"
   ]
  },
  {
   "cell_type": "code",
   "execution_count": 11,
   "metadata": {},
   "outputs": [],
   "source": [
    "import openpyxl as pyxl"
   ]
  },
  {
   "cell_type": "code",
   "execution_count": 12,
   "metadata": {},
   "outputs": [
    {
     "name": "stdout",
     "output_type": "stream",
     "text": [
      "[<li>인공지능</li>, <li>빅데이터</li>, <li>스마트팩토리</li>]\n",
      "<li>인공지능</li>\n",
      "인공지능\n",
      "[<li>인공지능</li>, <li>빅데이터</li>, <li>스마트팩토리</li>, <li>Python</li>, <li>C++</li>, <li>Javascript</li>]\n",
      "<li>인공지능</li>\n",
      "인공지능\n"
     ]
    }
   ],
   "source": [
    "all_li = soup.select(\"ul.industry > li\")\n",
    "print(all_li)\n",
    "print(all_li[0])\n",
    "print(all_li[0].text)\n",
    "\n",
    "all_li = soup.select(\"li\")\n",
    "print(all_li)\n",
    "print(all_li[0])\n",
    "print(all_li[0].text)"
   ]
  },
  {
   "cell_type": "code",
   "execution_count": 13,
   "metadata": {},
   "outputs": [
    {
     "name": "stdout",
     "output_type": "stream",
     "text": [
      "[<ul class=\"industry\">\n",
      "<li>인공지능</li>\n",
      "<li>빅데이터</li>\n",
      "<li>스마트팩토리</li>\n",
      "</ul>]\n",
      "<ul class=\"industry\">\n",
      "<li>인공지능</li>\n",
      "<li>빅데이터</li>\n",
      "<li>스마트팩토리</li>\n",
      "</ul>\n",
      "\n",
      "[<div id=\"content\">\n",
      "<ul class=\"industry\">\n",
      "<li>인공지능</li>\n",
      "<li>빅데이터</li>\n",
      "<li>스마트팩토리</li>\n",
      "</ul>\n",
      "<ul class=\"comlang\">\n",
      "<li>Python</li>\n",
      "<li>C++</li>\n",
      "<li>Javascript</li>\n",
      "</ul>\n",
      "</div>]\n",
      "<div id=\"content\">\n",
      "<ul class=\"industry\">\n",
      "<li>인공지능</li>\n",
      "<li>빅데이터</li>\n",
      "<li>스마트팩토리</li>\n",
      "</ul>\n",
      "<ul class=\"comlang\">\n",
      "<li>Python</li>\n",
      "<li>C++</li>\n",
      "<li>Javascript</li>\n",
      "</ul>\n",
      "</div>\n"
     ]
    }
   ],
   "source": [
    "idid = soup.select(\".industry\")\n",
    "print(idid)\n",
    "print(idid[0])\n",
    "print()\n",
    "idid = soup.select(\"#content\")\n",
    "print(idid)\n",
    "print(idid[0])"
   ]
  },
  {
   "cell_type": "code",
   "execution_count": 14,
   "metadata": {},
   "outputs": [],
   "source": [
    "sss = '''\n",
    "    <div class = 'a'>\n",
    "        <a href =\"http://naver.com\" class=\"dsc_thumb\"></a>\n",
    "    </div>\n",
    "'''\n",
    "soup = bs(sss,\"html.parser\")"
   ]
  },
  {
   "cell_type": "code",
   "execution_count": 15,
   "metadata": {},
   "outputs": [
    {
     "name": "stdout",
     "output_type": "stream",
     "text": [
      "<a class=\"dsc_thumb\" href=\"http://naver.com\"></a>\n",
      "http://naver.com\n",
      "['dsc_thumb']\n"
     ]
    }
   ],
   "source": [
    "b= soup.select_one(\"div a\")\n",
    "print(b)\n",
    "print(b[\"href\"])\n",
    "print(b[\"class\"])"
   ]
  },
  {
   "cell_type": "code",
   "execution_count": 1,
   "metadata": {},
   "outputs": [],
   "source": [
    "import requests\n",
    "from bs4 import BeautifulSoup as bs\n",
    "search_term = str(input())\n",
    "def get_naver_news(search_query, max_pages=1):\n",
    "    \n",
    "    base_url = \"https://search.naver.com/search.naver\"\n",
    "    headers = {\"User-Agent\": \"Mozilla/5.0 (Windows NT 10.0; Win64; x64) AppleWebKit/537.36 (KHTML, like Gecko) Chrome/96.0.4664.110 Safari/537.36\"}\n",
    "    news_data = []\n",
    "    \n",
    "    for page in range(1, max_pages + 1):\n",
    "        params = {\n",
    "            \"where\": \"news\",\n",
    "            \"query\": search_query,\n",
    "            \"sm\": \"tab_pge\",\n",
    "            \"start\": (page - 1) * 10 + 1\n",
    "        }\n",
    "        \n",
    "        response = requests.get(base_url, headers=headers, params=params)\n",
    "        if response.status_code != 200:\n",
    "            print(f\"Failed to retrieve page {page}\")\n",
    "            continue\n",
    "        \n",
    "        soup = bs(response.text, \"html.parser\")\n",
    "        articles = soup.select(\".news_area\")\n",
    "        \n",
    "        for article in articles:\n",
    "            title_tag = article.select_one(\".news_tit\")\n",
    "            summary_tag = article.select_one(\".dsc_txt_wrap\")\n",
    "            \n",
    "            if title_tag and summary_tag:\n",
    "                title = title_tag.get_text(strip=True)\n",
    "                link = title_tag[\"href\"]\n",
    "                summary = summary_tag.get_text(strip=True)\n",
    "                \n",
    "                news_data.append({\n",
    "                    \"title\": title,\n",
    "                    \"link\": link,\n",
    "                    \"summary\": summary\n",
    "                })\n",
    "    \n",
    "    return news_data\n",
    "\n",
    "if __name__ == \"__main__\":\n",
    "    \n",
    "    max_pages_to_search = 2\n",
    "    news_results = get_naver_news(search_term, max_pages=max_pages_to_search)\n",
    "    \n",
    "    for i, news in enumerate(news_results, 1):\n",
    "        print(f\"{news['title']}\")\n",
    "        print(f\"{news['link']}\")\n",
    "        print(\"\\n\")"
   ]
  },
  {
   "cell_type": "code",
   "execution_count": 51,
   "metadata": {},
   "outputs": [
    {
     "name": "stdout",
     "output_type": "stream",
     "text": [
      "USD 1,450.60\n",
      "JPY(100엔) 922.27\n",
      "EUR 1,503.04\n",
      "CNY 198.47\n"
     ]
    }
   ],
   "source": [
    "import requests\n",
    "import openpyxl\n",
    "from openpyxl import Workbook\n",
    "from bs4 import BeautifulSoup\n",
    "\n",
    "url = \"https://finance.naver.com/marketindex/\"\n",
    "response = requests.get(url)\n",
    "soup = BeautifulSoup(response.text, \"html.parser\")\n",
    "exchange_list = soup.select(\"ul.data_lst > li\")\n",
    "data = []\n",
    "\n",
    "for item in exchange_list[:4]:\n",
    "    currency_name = item.select_one(\".blind\").get_text().split()[1] \n",
    "    exchange_rate = item.select_one(\".value\").get_text()  \n",
    "    print(f\"{currency_name} {exchange_rate}\")\n",
    "    data.append([currency_name, exchange_rate])\n",
    "\n",
    "# print(data)\n",
    "wb = Workbook()\n",
    "ws = wb.active\n",
    "ws.title = \"환율\"\n",
    "ws[\"A1\"] = \"통화\"\n",
    "ws[\"B1\"] = \"환율\"\n",
    "for row in data:\n",
    "    ws.append(row)\n",
    "\n",
    "wb.save(\"환율.xlsx\")\n",
    "\n"
   ]
  }
 ],
 "metadata": {
  "kernelspec": {
   "display_name": "base",
   "language": "python",
   "name": "python3"
  },
  "language_info": {
   "codemirror_mode": {
    "name": "ipython",
    "version": 3
   },
   "file_extension": ".py",
   "mimetype": "text/x-python",
   "name": "python",
   "nbconvert_exporter": "python",
   "pygments_lexer": "ipython3",
   "version": "3.12.7"
  }
 },
 "nbformat": 4,
 "nbformat_minor": 2
}
